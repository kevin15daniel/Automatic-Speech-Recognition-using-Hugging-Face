{
  "nbformat": 4,
  "nbformat_minor": 0,
  "metadata": {
    "colab": {
      "provenance": []
    },
    "kernelspec": {
      "name": "python3",
      "display_name": "Python 3"
    },
    "language_info": {
      "name": "python"
    }
  },
  "cells": [
    {
      "cell_type": "code",
      "execution_count": null,
      "metadata": {
        "id": "iKK4EI8DlnOJ"
      },
      "outputs": [],
      "source": [
        "!pip install transformers"
      ]
    },
    {
      "cell_type": "code",
      "source": [
        "from transformers import pipeline"
      ],
      "metadata": {
        "id": "HJ8o0YFQmWUb"
      },
      "execution_count": null,
      "outputs": []
    },
    {
      "cell_type": "code",
      "source": [
        "asr = pipeline(\"automatic-speech-recognition\")\n",
        "rec = asr(\"test.mp3\")\n",
        "print(rec)"
      ],
      "metadata": {
        "id": "8RB_n-UUmcgT"
      },
      "execution_count": null,
      "outputs": []
    }
  ]
}